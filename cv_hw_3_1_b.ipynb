{
 "cells": [
  {
   "cell_type": "code",
   "execution_count": 2,
   "metadata": {
    "collapsed": true
   },
   "outputs": [],
   "source": [
    "from __future__ import print_function, division\n",
    "import os\n",
    "import torch\n",
    "import pandas as pd\n",
    "from skimage import io,transform as sk_transform\n",
    "import numpy as np\n",
    "import math\n",
    "import matplotlib.pyplot as plt\n",
    "from torch.utils.data import Dataset, DataLoader\n",
    "from torchvision import transforms, utils\n",
    "from torch.autograd import Variable\n",
    "import torch.nn as nn\n",
    "import torch.nn.functional as F\n",
    "from time import gmtime, strftime\n",
    "import random\n"
   ]
  },
  {
   "cell_type": "markdown",
   "metadata": {},
   "source": [
    "Data Loader Class"
   ]
  },
  {
   "cell_type": "code",
   "execution_count": 3,
   "metadata": {
    "collapsed": true
   },
   "outputs": [],
   "source": [
    "class random_augmetaion(object):\n",
    "    \"\"\"Applied the required tranformations\"\"\"\n",
    "    \n",
    "    def random_augment_image(self,face):\n",
    "       \n",
    "        ## mirror flipping\n",
    "\n",
    "        # rotate image parmaeter:\n",
    "        angle = math.radians(random.randrange(-30, +30))\n",
    "        \n",
    "        # translate image parameter\n",
    "        tr_distance_x = random.randrange(-10, +10)\n",
    "        tr_distance_y = random.randrange(-10, +10)\n",
    "        # scaling image parameter\n",
    "        scaling_val=random.uniform(0.7,1.3) \n",
    "        \n",
    "        tform=sk_transform.SimilarityTransform(scale=scaling_val, rotation=angle,\\\n",
    "                                                    translation=(tr_distance_x, tr_distance_y))\n",
    "        # transform probabilty \n",
    "        tr_probab= random.random()\n",
    "        if tr_probab<=0.7:\n",
    "            face = sk_transform.warp(face,inverse_map=tform)        \n",
    "    \n",
    "        return face\n",
    "        \n",
    "    \n",
    "    def __call__(self,sample):\n",
    "        face_1, face_2 = sample['face_1'], sample['face_2']        \n",
    "        \n",
    "        face_1=self.random_augment_image(face_1)\n",
    "        face_2=self.random_augment_image(face_2)\n",
    "        \n",
    "        return {\n",
    "                'face_1': face_1,\n",
    "                'face_2': face_2,\n",
    "                 'label':sample['label']\n",
    "               }        \n",
    "        \n",
    "class ToTensor(object):\n",
    "\n",
    "        \n",
    "    def __call__(self,sample):\n",
    "        face_1, face_2 = sample['face_1'], sample['face_2']\n",
    "        \n",
    "        # final resize the image\n",
    "        face_1 = sk_transform.resize(face_1, (128, 128), mode='constant')\n",
    "        # transpose because the axis are different in torch.image vs skimage image\n",
    "        face_1=face_1.transpose((2, 0, 1))\n",
    "        \n",
    "         # final resize the image\n",
    "        face_2 = sk_transform.resize(face_2, (128, 128), mode='constant')\n",
    "        # transpose because the axis are different in torch.image vs skimage image\n",
    "        face_2=face_2.transpose((2, 0, 1))\n",
    "        \n",
    "        label=torch.LongTensor(1, 1).zero_()\n",
    "        label=sample['label']\n",
    "        return {\n",
    "                'face_1': torch.from_numpy(face_1),\n",
    "                'face_2': torch.from_numpy(face_2),\n",
    "                 'label':label\n",
    "               }\n",
    "    \n",
    "class FacePairsDataset(Dataset):\n",
    "    \"\"\"Face Pairs dataset.\"\"\"\n",
    "\n",
    "    def __init__(self, txt_file, root_dir, transform=None):\n",
    "        \"\"\"\n",
    "        Args:\n",
    "            csv_file (string): Path to the csv file with annotations.\n",
    "            root_dir (string): Directory with all the images.\n",
    "            transform (callable, optional): Optional transform to be applied\n",
    "                on a sample.\n",
    "        \"\"\"\n",
    "        data=pd.read_csv(txt_file,header=None)\n",
    "        df=data[0].str[:].str.split(' ', expand=True)\n",
    "        df.columns = [\"face_1\", \"face_2\", \"label\"]\n",
    "        self.face_pair_frame = df\n",
    "        self.root_dir = root_dir\n",
    "        self.transform = transform\n",
    "\n",
    "    def __len__(self):\n",
    "        return len(self.face_pair_frame)\n",
    "\n",
    "    def __getitem__(self, idx):\n",
    "        img_name_1 = os.path.join(self.root_dir, self.face_pair_frame.loc[idx, 'face_1'])\n",
    "        img_name_2 = os.path.join(self.root_dir, self.face_pair_frame.loc[idx, 'face_2'])\n",
    "        face_1 = io.imread(img_name_1)\n",
    "        face_2 = io.imread(img_name_2)\n",
    "        label=self.face_pair_frame.loc[idx,'label']\n",
    "        label=int(label)\n",
    "        sample = {'face_1': face_1,'face_2':face_2,'label': label}\n",
    "\n",
    "        if self.transform:\n",
    "            sample = self.transform(sample)\n",
    "\n",
    "        return sample\n"
   ]
  },
  {
   "cell_type": "markdown",
   "metadata": {},
   "source": [
    "Loads and transforms the data"
   ]
  },
  {
   "cell_type": "code",
   "execution_count": 4,
   "metadata": {
    "collapsed": true
   },
   "outputs": [],
   "source": [
    "trans_train = transforms.Compose([random_augmetaion(),ToTensor()])\n",
    "trans_test = transforms.Compose([ToTensor()])\n",
    "\n",
    "face_train_dataset = FacePairsDataset(txt_file='train.txt',root_dir='lfw/',transform=trans_train)\n",
    "face_test_dataset = FacePairsDataset(txt_file='test.txt',root_dir='lfw/',transform=trans_test)\n",
    "\n",
    "N = 20\n",
    "train_loader = DataLoader(dataset=face_train_dataset, batch_size=N, shuffle=True, num_workers=4)\n",
    "test_loader = DataLoader(dataset=face_test_dataset, batch_size=N, shuffle=False, num_workers=4)"
   ]
  },
  {
   "cell_type": "markdown",
   "metadata": {},
   "source": [
    "tester code for batch loading"
   ]
  },
  {
   "cell_type": "code",
   "execution_count": 5,
   "metadata": {},
   "outputs": [
    {
     "name": "stdout",
     "output_type": "stream",
     "text": [
      "0\n",
      "1\n",
      "2\n",
      "3\n",
      "torch.Size([20, 3, 128, 128])\n",
      "torch.Size([20, 3, 128, 128])\n",
      "torch.Size([20])\n"
     ]
    },
    {
     "data": {
      "image/png": "[encoded data removed]",
      "text/plain": [
       "<matplotlib.figure.Figure at 0x1c123e59d0>"
      ]
     },
     "metadata": {},
     "output_type": "display_data"
    }
   ],
   "source": [
    "def show_faces_batch(sample_batched):\n",
    "    \"\"\"Show image with landmarks for a batch of samples.\"\"\"\n",
    "    faces_1_batch, faces_2_batch = sample_batched['face_1'], sample_batched['face_2']\n",
    "    print (faces_1_batch.shape)\n",
    "    print (faces_2_batch.shape)\n",
    "    labels_batch=sample_batched['label']\n",
    "    print(labels_batch.shape)\n",
    "    batch_size = len(faces_1_batch)\n",
    "    im_size = faces_1_batch.size(2)\n",
    "    grid_1 = utils.make_grid(faces_1_batch)\n",
    "    grid_2 = utils.make_grid(faces_2_batch)\n",
    "    plt.imshow(grid_1.numpy().transpose((1, 2, 0)))\n",
    "    plt.imshow(grid_2.numpy().transpose((1, 2, 0)))\n",
    "\n",
    "for i_batch, sample_batched in enumerate(train_loader):\n",
    "    print (i_batch)\n",
    "    # sample_batched['face_1'].size() + sample_batched['face_2'].size()\n",
    "    # observe 4th batch and stop.\n",
    "    if i_batch == 3:\n",
    "        plt.figure()\n",
    "        show_faces_batch(sample_batched)\n",
    "        plt.axis('off')\n",
    "        plt.ioff()\n",
    "        plt.show()\n",
    "        break\n",
    "i=0"
   ]
  },
  {
   "cell_type": "markdown",
   "metadata": {
    "collapsed": true
   },
   "source": [
    "# Model C"
   ]
  },
  {
   "cell_type": "code",
   "execution_count": 6,
   "metadata": {
    "collapsed": true
   },
   "outputs": [],
   "source": [
    "class Net(nn.Module):\n",
    "\n",
    "    def __init__(self):\n",
    "        super(Net, self).__init__()\n",
    "        # 1 input image channel, 6 output channels, 5x5 square convolution\n",
    "        # kernel\n",
    "        self.conv1 = nn.Conv2d(in_channels=3, out_channels=64, kernel_size=5,padding=2,stride=1)\n",
    "        self.conv2 = nn.Conv2d(in_channels=64, out_channels=128, kernel_size=5,padding=2,stride=1)\n",
    "        self.conv3 = nn.Conv2d(in_channels=128, out_channels=256, kernel_size=3,padding=1,stride=1)\n",
    "        self.conv4 = nn.Conv2d(in_channels=256, out_channels=512, kernel_size=3,padding=1,stride=1)\n",
    "        \n",
    "        # an affine operation: y = Wx + b\n",
    "        self.fc1 = nn.Linear(131072, 1024)\n",
    "        \n",
    "        self.b_64 = nn.BatchNorm2d(64)\n",
    "        self.b_128 = nn.BatchNorm2d(128)\n",
    "        self.b_256 = nn.BatchNorm2d(256)\n",
    "        self.b_512 = nn.BatchNorm2d(512)\n",
    "        self.b_1024 = nn.BatchNorm2d(1024)\n",
    "        self.F_relu = F.relu\n",
    "        self.F_max_pool2d = F.max_pool2d\n",
    "        \n",
    "\n",
    "    def forward_once(self, x):\n",
    "        # Max pooling over a (2, 2) window\n",
    "       \n",
    "        \n",
    "        #1,2,3,4\n",
    "        x = self.F_relu(self.conv1(x))\n",
    "        x = self.b_64(x)\n",
    "        x = self.F_max_pool2d(x,2)\n",
    "        \n",
    "        #5,6,7,8\n",
    "        x = self.F_relu(self.conv2(x))\n",
    "        x = self.b_128(x)\n",
    "        x = self.F_max_pool2d(x, 2)\n",
    "        \n",
    "        #9,10,11,12\n",
    "        x = self.F_relu(self.conv3(x))\n",
    "        x = self.b_256(x)\n",
    "        x = self.F_max_pool2d(x,2)\n",
    "        \n",
    "        #13,14,15 (no max pooling)\n",
    "        x = self.F_relu(self.conv4(x))\n",
    "        x=self.b_512(x)\n",
    "        \n",
    "        # 16\n",
    "        x = x.view(-1, self.num_flat_features(x))\n",
    "        \n",
    "        #17,18,19\n",
    "        x = self.F_relu(self.fc1(x))\n",
    "        x= self.b_1024(x)\n",
    "        \n",
    "        return x\n",
    "    \n",
    "    def forward(self,input1,input2):\n",
    "        output1 = self.forward_once(input1)\n",
    "        output2 = self.forward_once(input2)\n",
    "\n",
    "        return output1, output2\n",
    "        \n",
    "    def num_flat_features(self, x):\n",
    "        size = x.size()[1:]  # all dimensions except the batch dimension\n",
    "        num_features = 1\n",
    "        for s in size:\n",
    "            num_features *= s\n",
    "        return num_features\n",
    "\n",
    "\n"
   ]
  },
  {
   "cell_type": "markdown",
   "metadata": {},
   "source": [
    "# Siamese_Net"
   ]
  },
  {
   "cell_type": "code",
   "execution_count": 7,
   "metadata": {
    "collapsed": true
   },
   "outputs": [],
   "source": [
    "\n",
    "class Siamese_Net_Contrastive(torch.nn.Module):\n",
    "    \n",
    "\n",
    "    def __init__(self):\n",
    "        super(Siamese_Net_Contrastive, self).__init__()\n",
    "        if torch.cuda.is_available():\n",
    "            self.net = Net().cuda()\n",
    "        else:\n",
    "            self.net = Net()\n",
    "        self.fc = nn.Linear(2048, 1)\n",
    "\n",
    "\n",
    "    def forward(self, input1, input2):\n",
    "        return self.net(input1,input2)\n",
    "    \n"
   ]
  },
  {
   "cell_type": "markdown",
   "metadata": {},
   "source": [
    "# LOSS"
   ]
  },
  {
   "cell_type": "code",
   "execution_count": 8,
   "metadata": {
    "collapsed": true
   },
   "outputs": [],
   "source": [
    "class ContrastiveLoss(torch.nn.Module):\n",
    "    def __init__(self, margin=1.0):\n",
    "        super(ContrastiveLoss, self).__init__()\n",
    "        self.margin = margin\n",
    "\n",
    "    def forward(self,output_1 , output_2, label):\n",
    "        distance = F.pairwise_distance(output_1, output_2)\n",
    "        loss_1 = (label) * torch.pow(distance, 2)\n",
    "        loss_2 = (1 - label) * torch.pow(torch.clamp(self.margin - distance, min=0), 2)\n",
    "        loss = (loss_1 + loss_2).mean()\n",
    "        return loss"
   ]
  },
  {
   "cell_type": "markdown",
   "metadata": {},
   "source": [
    "# Optimizer"
   ]
  },
  {
   "cell_type": "code",
   "execution_count": 9,
   "metadata": {},
   "outputs": [
    {
     "name": "stdout",
     "output_type": "stream",
     "text": [
      "Siamese_Net_Contrastive (\n",
      "  (net): Net (\n",
      "    (conv1): Conv2d(3, 64, kernel_size=(5, 5), stride=(1, 1), padding=(2, 2))\n",
      "    (conv2): Conv2d(64, 128, kernel_size=(5, 5), stride=(1, 1), padding=(2, 2))\n",
      "    (conv3): Conv2d(128, 256, kernel_size=(3, 3), stride=(1, 1), padding=(1, 1))\n",
      "    (conv4): Conv2d(256, 512, kernel_size=(3, 3), stride=(1, 1), padding=(1, 1))\n",
      "    (fc1): Linear (131072 -> 1024)\n",
      "    (b_64): BatchNorm2d(64, eps=1e-05, momentum=0.1, affine=True)\n",
      "    (b_128): BatchNorm2d(128, eps=1e-05, momentum=0.1, affine=True)\n",
      "    (b_256): BatchNorm2d(256, eps=1e-05, momentum=0.1, affine=True)\n",
      "    (b_512): BatchNorm2d(512, eps=1e-05, momentum=0.1, affine=True)\n",
      "    (b_1024): BatchNorm2d(1024, eps=1e-05, momentum=0.1, affine=True)\n",
      "  )\n",
      "  (fc): Linear (2048 -> 1)\n",
      ")\n"
     ]
    }
   ],
   "source": [
    "import torch.optim as optim\n",
    "if torch.cuda.is_available():\n",
    "    snet = Siamese_Net_Contrastive().cuda()\n",
    "    criterion = ContrastiveLoss().cuda()\n",
    "else:\n",
    "    snet = Siamese_Net_Contrastive()\n",
    "    criterion = ContrastiveLoss()\n",
    "    \n",
    "optimizer = optim.Adam(snet.parameters())\n",
    "print(snet)\n"
   ]
  },
  {
   "cell_type": "markdown",
   "metadata": {},
   "source": [
    "# Sanity Checks for parameters"
   ]
  },
  {
   "cell_type": "code",
   "execution_count": 11,
   "metadata": {},
   "outputs": [
    {
     "name": "stdout",
     "output_type": "stream",
     "text": [
      "22\n",
      "torch.Size([64, 3, 5, 5])\n",
      "torch.Size([128, 64, 5, 5])\n",
      "torch.Size([256, 128, 3, 3])\n",
      "torch.Size([512, 256, 3, 3])\n",
      "torch.Size([1024, 131072])\n",
      "torch.Size([64])\n"
     ]
    }
   ],
   "source": [
    "params = list(snet.parameters())\n",
    "print(len(params))\n",
    "print(params[0].size())  # bases weight\n",
    "print(params[2].size())  # conv2's .weight\n",
    "print(params[4].size())  # conv3's .weight\n",
    "print(params[6].size())  # conv4's .weight\n",
    "print(params[8].size())  # conv5's .weight\n",
    "print(params[10].size())  # linear 2 .weight\n"
   ]
  },
  {
   "cell_type": "code",
   "execution_count": 12,
   "metadata": {},
   "outputs": [
    {
     "name": "stdout",
     "output_type": "stream",
     "text": [
      "(Variable containing:\n",
      "-0.4454  0.0419 -0.1836  ...   0.0000  0.2802  0.0000\n",
      " 0.4454 -0.0419  0.1836  ...   0.0000 -0.2802  0.0000\n",
      "[torch.FloatTensor of size 2x1024]\n",
      ", Variable containing:\n",
      " 0.4457  0.0499 -0.1836  ...   0.1122  0.0000 -0.0273\n",
      "-0.4457 -0.0499  0.1836  ...  -0.1122  0.0000  0.0273\n",
      "[torch.FloatTensor of size 2x1024]\n",
      ")\n"
     ]
    }
   ],
   "source": [
    "a = torch.randn(2,3,128,128)\n",
    "b = torch.randn(2,3,128,128)\n",
    "\n",
    "if torch.cuda.is_available():\n",
    "    o_1,o_2=snet(Variable(a).cuda(),Variable(b).cuda())\n",
    "else:\n",
    "    temp=snet(Variable(a),Variable(b))\n",
    "    \n",
    "print(temp)"
   ]
  },
  {
   "cell_type": "code",
   "execution_count": 13,
   "metadata": {
    "collapsed": true
   },
   "outputs": [],
   "source": [
    "def curr_accuracy():\n",
    "    correct = 0\n",
    "    total = 0\n",
    "    count = 0\n",
    "    for data in test_loader:\n",
    "        count=count+1\n",
    "        faces_1_batch, faces_2_batch = data['face_1'], data['face_2']\n",
    "        labels_batch = data['label']\n",
    "\n",
    "        if torch.cuda.is_available():\n",
    "            input1,input2 = Variable(faces_1_batch.float().cuda()),Variable(faces_2_batch.float().cuda())\n",
    "        else:\n",
    "            input1,input2 = Variable(faces_1_batch.float()),Variable(faces_2_batch.float())\n",
    "\n",
    "        outputs = snet(input1,input2)\n",
    "\n",
    "        outputs.data[outputs.data>=0.5]=1\n",
    "        outputs.data[outputs.data<=0.5]=0\n",
    "            \n",
    "        predicted = outputs.data\n",
    "\n",
    "        total += labels_batch.size(0)\n",
    "        labels_batch= (labels_batch.view(-1,1))\n",
    "\n",
    "        correct += (predicted.long().cpu() == labels_batch.long()).sum()    \n",
    "   \n",
    "    ac = 100 * (correct / total)\n",
    "    print('Accuracy of the network on the %d test images: %d %%' %(total, ac))\n",
    "    return ac\n"
   ]
  },
  {
   "cell_type": "code",
   "execution_count": 16,
   "metadata": {},
   "outputs": [
    {
     "name": "stderr",
     "output_type": "stream",
     "text": [
      "Process Process-10:\n",
      "  File \"/Users/jawa/anaconda2/envs/dl_cv_2/lib/python2.7/multiprocessing/process.py\", line 267, in _bootstrap\n",
      "Process Process-12:\n",
      "Traceback (most recent call last):\n",
      "Traceback (most recent call last):\n",
      "  File \"/Users/jawa/anaconda2/envs/dl_cv_2/lib/python2.7/multiprocessing/process.py\", line 267, in _bootstrap\n",
      "Process Process-11:\n",
      "Traceback (most recent call last):\n",
      "Process Process-9:\n",
      "Traceback (most recent call last):\n",
      "  File \"/Users/jawa/anaconda2/envs/dl_cv_2/lib/python2.7/multiprocessing/process.py\", line 267, in _bootstrap\n",
      "  File \"/Users/jawa/anaconda2/envs/dl_cv_2/lib/python2.7/multiprocessing/process.py\", line 267, in _bootstrap\n",
      "    self.run()\n",
      "    self.run()\n",
      "  File \"/Users/jawa/anaconda2/envs/dl_cv_2/lib/python2.7/multiprocessing/process.py\", line 114, in run\n",
      "  File \"/Users/jawa/anaconda2/envs/dl_cv_2/lib/python2.7/multiprocessing/process.py\", line 114, in run\n",
      "    self._target(*self._args, **self._kwargs)\n",
      "    self._target(*self._args, **self._kwargs)\n",
      "    self.run()\n",
      "  File \"/Users/jawa/anaconda2/envs/dl_cv_2/lib/python2.7/site-packages/torch/utils/data/dataloader.py\", line 34, in _worker_loop\n",
      "  File \"/Users/jawa/anaconda2/envs/dl_cv_2/lib/python2.7/multiprocessing/process.py\", line 114, in run\n",
      "  File \"/Users/jawa/anaconda2/envs/dl_cv_2/lib/python2.7/site-packages/torch/utils/data/dataloader.py\", line 34, in _worker_loop\n",
      "    self._target(*self._args, **self._kwargs)\n",
      "    self.run()\n",
      "  File \"/Users/jawa/anaconda2/envs/dl_cv_2/lib/python2.7/multiprocessing/process.py\", line 114, in run\n",
      "  File \"/Users/jawa/anaconda2/envs/dl_cv_2/lib/python2.7/site-packages/torch/utils/data/dataloader.py\", line 34, in _worker_loop\n",
      "    self._target(*self._args, **self._kwargs)\n",
      "    r = index_queue.get()\n",
      "    r = index_queue.get()\n",
      "  File \"/Users/jawa/anaconda2/envs/dl_cv_2/lib/python2.7/site-packages/torch/utils/data/dataloader.py\", line 34, in _worker_loop\n",
      "    r = index_queue.get()\n",
      "  File \"/Users/jawa/anaconda2/envs/dl_cv_2/lib/python2.7/multiprocessing/queues.py\", line 374, in get\n",
      "  File \"/Users/jawa/anaconda2/envs/dl_cv_2/lib/python2.7/multiprocessing/queues.py\", line 374, in get\n",
      "    r = index_queue.get()\n",
      "  File \"/Users/jawa/anaconda2/envs/dl_cv_2/lib/python2.7/multiprocessing/queues.py\", line 376, in get\n",
      "  File \"/Users/jawa/anaconda2/envs/dl_cv_2/lib/python2.7/multiprocessing/queues.py\", line 374, in get\n",
      "    racquire()\n",
      "    racquire()\n",
      "KeyboardInterrupt\n",
      "KeyboardInterrupt\n",
      "    return recv()\n",
      "    racquire()\n",
      "KeyboardInterrupt\n",
      "  File \"/Users/jawa/anaconda2/envs/dl_cv_2/lib/python2.7/site-packages/torch/multiprocessing/queue.py\", line 21, in recv\n",
      "    buf = self.recv_bytes()\n",
      "KeyboardInterrupt\n"
     ]
    },
    {
     "ename": "KeyboardInterrupt",
     "evalue": "",
     "output_type": "error",
     "traceback": [
      "\u001b[0;31m---------------------------------------------------------------------------\u001b[0m",
      "\u001b[0;31mKeyboardInterrupt\u001b[0m                         Traceback (most recent call last)",
      "\u001b[0;32m<ipython-input-16-5e3e0e915a4f>\u001b[0m in \u001b[0;36m<module>\u001b[0;34m()\u001b[0m\n\u001b[1;32m     21\u001b[0m         \u001b[0mloss\u001b[0m \u001b[0;34m=\u001b[0m \u001b[0mcriterion\u001b[0m\u001b[0;34m(\u001b[0m\u001b[0moutput_1\u001b[0m\u001b[0;34m,\u001b[0m\u001b[0moutput_2\u001b[0m\u001b[0;34m,\u001b[0m \u001b[0mlabels_batch\u001b[0m\u001b[0;34m)\u001b[0m\u001b[0;34m\u001b[0m\u001b[0m\n\u001b[1;32m     22\u001b[0m         \u001b[0mloss\u001b[0m\u001b[0;34m.\u001b[0m\u001b[0mbackward\u001b[0m\u001b[0;34m(\u001b[0m\u001b[0;34m)\u001b[0m\u001b[0;34m\u001b[0m\u001b[0m\n\u001b[0;32m---> 23\u001b[0;31m         \u001b[0moptimizer\u001b[0m\u001b[0;34m.\u001b[0m\u001b[0mstep\u001b[0m\u001b[0;34m(\u001b[0m\u001b[0;34m)\u001b[0m\u001b[0;34m\u001b[0m\u001b[0m\n\u001b[0m\u001b[1;32m     24\u001b[0m \u001b[0;34m\u001b[0m\u001b[0m\n\u001b[1;32m     25\u001b[0m \u001b[0;34m\u001b[0m\u001b[0m\n",
      "\u001b[0;32m/Users/jawa/anaconda2/envs/dl_cv_2/lib/python2.7/site-packages/torch/optim/adam.pyc\u001b[0m in \u001b[0;36mstep\u001b[0;34m(self, closure)\u001b[0m\n\u001b[1;32m     64\u001b[0m                 \u001b[0;31m# Decay the first and second moment running average coefficient\u001b[0m\u001b[0;34m\u001b[0m\u001b[0;34m\u001b[0m\u001b[0m\n\u001b[1;32m     65\u001b[0m                 \u001b[0mexp_avg\u001b[0m\u001b[0;34m.\u001b[0m\u001b[0mmul_\u001b[0m\u001b[0;34m(\u001b[0m\u001b[0mbeta1\u001b[0m\u001b[0;34m)\u001b[0m\u001b[0;34m.\u001b[0m\u001b[0madd_\u001b[0m\u001b[0;34m(\u001b[0m\u001b[0;36m1\u001b[0m \u001b[0;34m-\u001b[0m \u001b[0mbeta1\u001b[0m\u001b[0;34m,\u001b[0m \u001b[0mgrad\u001b[0m\u001b[0;34m)\u001b[0m\u001b[0;34m\u001b[0m\u001b[0m\n\u001b[0;32m---> 66\u001b[0;31m                 \u001b[0mexp_avg_sq\u001b[0m\u001b[0;34m.\u001b[0m\u001b[0mmul_\u001b[0m\u001b[0;34m(\u001b[0m\u001b[0mbeta2\u001b[0m\u001b[0;34m)\u001b[0m\u001b[0;34m.\u001b[0m\u001b[0maddcmul_\u001b[0m\u001b[0;34m(\u001b[0m\u001b[0;36m1\u001b[0m \u001b[0;34m-\u001b[0m \u001b[0mbeta2\u001b[0m\u001b[0;34m,\u001b[0m \u001b[0mgrad\u001b[0m\u001b[0;34m,\u001b[0m \u001b[0mgrad\u001b[0m\u001b[0;34m)\u001b[0m\u001b[0;34m\u001b[0m\u001b[0m\n\u001b[0m\u001b[1;32m     67\u001b[0m \u001b[0;34m\u001b[0m\u001b[0m\n\u001b[1;32m     68\u001b[0m                 \u001b[0mdenom\u001b[0m \u001b[0;34m=\u001b[0m \u001b[0mexp_avg_sq\u001b[0m\u001b[0;34m.\u001b[0m\u001b[0msqrt\u001b[0m\u001b[0;34m(\u001b[0m\u001b[0;34m)\u001b[0m\u001b[0;34m.\u001b[0m\u001b[0madd_\u001b[0m\u001b[0;34m(\u001b[0m\u001b[0mgroup\u001b[0m\u001b[0;34m[\u001b[0m\u001b[0;34m'eps'\u001b[0m\u001b[0;34m]\u001b[0m\u001b[0;34m)\u001b[0m\u001b[0;34m\u001b[0m\u001b[0m\n",
      "\u001b[0;31mKeyboardInterrupt\u001b[0m: "
     ]
    }
   ],
   "source": [
    "ac_list=[]\n",
    "for epoch in range(15):  # loop over the dataset multiple times\n",
    "    for i, sample_batched in enumerate(train_loader):\n",
    "        # get the inputs\n",
    "        faces_1_batch, faces_2_batch = sample_batched['face_1'], sample_batched['face_2']\n",
    "        labels_batch = sample_batched['label']\n",
    "        \n",
    "        # wrap them in Variable\n",
    "        if torch.cuda.is_available():\n",
    "            input1,input2 = Variable(faces_1_batch.float().cuda()),Variable(faces_2_batch.float().cuda())\n",
    "            labels_batch = Variable(labels_batch.float().cuda())\n",
    "        else:\n",
    "            input1,input2 = Variable(faces_1_batch.float()),Variable(faces_2_batch.float())\n",
    "            labels_batch = Variable(labels_batch.float())\n",
    "        \n",
    "        # zero the parameter gradients\n",
    "        optimizer.zero_grad()\n",
    "        \n",
    "        # forward + backward + optimize\n",
    "        output_1,output_2=snet(input1,input2)\n",
    "        loss = criterion(output_1,output_2, labels_batch)\n",
    "        loss.backward()\n",
    "        optimizer.step()\n",
    "        \n",
    "       \n",
    "        \n",
    "    ac_list.append(curr_accuracy())\n",
    "    print(\"Epoch number \",epoch)\n",
    "    if epoch==0:\n",
    "        break\n",
    "        \n",
    "print('Finished Training')\n",
    "curr_time=strftime(\"%Y_%m_%d_%H_%M_%S\", gmtime())\n",
    "save_file_path='snet_tf_'+curr_time\n",
    "torch.save(snet.state_dict(), save_file_path)"
   ]
  },
  {
   "cell_type": "code",
   "execution_count": null,
   "metadata": {
    "collapsed": true
   },
   "outputs": [],
   "source": [
    "curr_time=strftime(\"%Y_%m_%d_%H_%M_%S\", gmtime())\n",
    "save_file_path='snet_cl_'+curr_time\n",
    "torch.save(snet.state_dict(), save_file_path)"
   ]
  },
  {
   "cell_type": "code",
   "execution_count": null,
   "metadata": {
    "collapsed": true
   },
   "outputs": [],
   "source": [
    "if torch.cuda.is_available():\n",
    "    snet_load = Siamese_Net().cuda()\n",
    "else:\n",
    "    snet_load = Siamese_Net()  \n",
    "snet_load.load_state_dict(torch.load('snet_tf_2017_11_23_22_14_44'))\n"
   ]
  },
  {
   "cell_type": "code",
   "execution_count": 21,
   "metadata": {},
   "outputs": [
    {
     "name": "stderr",
     "output_type": "stream",
     "text": [
      "Process Process-18:\n",
      "Traceback (most recent call last):\n",
      "Process Process-20:\n",
      "Process Process-19:\n",
      "Process Process-17:\n",
      "Traceback (most recent call last):\n",
      "Traceback (most recent call last):\n",
      "Traceback (most recent call last):\n",
      "  File \"/Users/jawa/anaconda2/envs/dl_cv_2/lib/python2.7/multiprocessing/process.py\", line 267, in _bootstrap\n",
      "  File \"/Users/jawa/anaconda2/envs/dl_cv_2/lib/python2.7/multiprocessing/process.py\", line 267, in _bootstrap\n",
      "  File \"/Users/jawa/anaconda2/envs/dl_cv_2/lib/python2.7/multiprocessing/process.py\", line 267, in _bootstrap\n",
      "  File \"/Users/jawa/anaconda2/envs/dl_cv_2/lib/python2.7/multiprocessing/process.py\", line 267, in _bootstrap\n",
      "    self.run()\n",
      "    self.run()\n",
      "    self.run()\n",
      "    self.run()\n",
      "  File \"/Users/jawa/anaconda2/envs/dl_cv_2/lib/python2.7/multiprocessing/process.py\", line 114, in run\n",
      "  File \"/Users/jawa/anaconda2/envs/dl_cv_2/lib/python2.7/multiprocessing/process.py\", line 114, in run\n",
      "  File \"/Users/jawa/anaconda2/envs/dl_cv_2/lib/python2.7/multiprocessing/process.py\", line 114, in run\n",
      "  File \"/Users/jawa/anaconda2/envs/dl_cv_2/lib/python2.7/multiprocessing/process.py\", line 114, in run\n",
      "    self._target(*self._args, **self._kwargs)\n",
      "    self._target(*self._args, **self._kwargs)\n",
      "    self._target(*self._args, **self._kwargs)\n",
      "    self._target(*self._args, **self._kwargs)\n",
      "  File \"/Users/jawa/anaconda2/envs/dl_cv_2/lib/python2.7/site-packages/torch/utils/data/dataloader.py\", line 34, in _worker_loop\n",
      "  File \"/Users/jawa/anaconda2/envs/dl_cv_2/lib/python2.7/site-packages/torch/utils/data/dataloader.py\", line 34, in _worker_loop\n",
      "  File \"/Users/jawa/anaconda2/envs/dl_cv_2/lib/python2.7/site-packages/torch/utils/data/dataloader.py\", line 34, in _worker_loop\n",
      "  File \"/Users/jawa/anaconda2/envs/dl_cv_2/lib/python2.7/site-packages/torch/utils/data/dataloader.py\", line 34, in _worker_loop\n",
      "    r = index_queue.get()\n",
      "    r = index_queue.get()\n",
      "    r = index_queue.get()\n",
      "    r = index_queue.get()\n",
      "  File \"/Users/jawa/anaconda2/envs/dl_cv_2/lib/python2.7/multiprocessing/queues.py\", line 374, in get\n",
      "  File \"/Users/jawa/anaconda2/envs/dl_cv_2/lib/python2.7/multiprocessing/queues.py\", line 374, in get\n",
      "  File \"/Users/jawa/anaconda2/envs/dl_cv_2/lib/python2.7/multiprocessing/queues.py\", line 374, in get\n",
      "  File \"/Users/jawa/anaconda2/envs/dl_cv_2/lib/python2.7/multiprocessing/queues.py\", line 376, in get\n",
      "    racquire()\n",
      "KeyboardInterrupt\n",
      "    racquire()\n",
      "    racquire()\n",
      "    return recv()\n",
      "KeyboardInterrupt\n",
      "KeyboardInterrupt\n",
      "  File \"/Users/jawa/anaconda2/envs/dl_cv_2/lib/python2.7/site-packages/torch/multiprocessing/queue.py\", line 21, in recv\n",
      "    buf = self.recv_bytes()\n",
      "KeyboardInterrupt\n"
     ]
    },
    {
     "ename": "KeyboardInterrupt",
     "evalue": "",
     "output_type": "error",
     "traceback": [
      "\u001b[0;31m---------------------------------------------------------------------------\u001b[0m",
      "\u001b[0;31mKeyboardInterrupt\u001b[0m                         Traceback (most recent call last)",
      "\u001b[0;32m<ipython-input-21-cf3295ca989a>\u001b[0m in \u001b[0;36m<module>\u001b[0;34m()\u001b[0m\n\u001b[1;32m      2\u001b[0m \u001b[0macc_data_set\u001b[0m \u001b[0;34m=\u001b[0m \u001b[0mFacePairsDataset\u001b[0m\u001b[0;34m(\u001b[0m\u001b[0mtxt_file\u001b[0m\u001b[0;34m=\u001b[0m\u001b[0;34m'train.txt'\u001b[0m\u001b[0;34m,\u001b[0m\u001b[0mroot_dir\u001b[0m\u001b[0;34m=\u001b[0m\u001b[0;34m'lfw/'\u001b[0m\u001b[0;34m,\u001b[0m\u001b[0mtransform\u001b[0m\u001b[0;34m=\u001b[0m\u001b[0mtrans_train\u001b[0m\u001b[0;34m)\u001b[0m\u001b[0;34m\u001b[0m\u001b[0m\n\u001b[1;32m      3\u001b[0m \u001b[0macc_loader\u001b[0m \u001b[0;34m=\u001b[0m \u001b[0mDataLoader\u001b[0m\u001b[0;34m(\u001b[0m\u001b[0mdataset\u001b[0m\u001b[0;34m=\u001b[0m\u001b[0macc_data_set\u001b[0m\u001b[0;34m,\u001b[0m \u001b[0mbatch_size\u001b[0m\u001b[0;34m=\u001b[0m\u001b[0mN\u001b[0m\u001b[0;34m,\u001b[0m \u001b[0mshuffle\u001b[0m\u001b[0;34m=\u001b[0m\u001b[0mFalse\u001b[0m\u001b[0;34m,\u001b[0m \u001b[0mnum_workers\u001b[0m\u001b[0;34m=\u001b[0m\u001b[0;36m4\u001b[0m\u001b[0;34m)\u001b[0m\u001b[0;34m\u001b[0m\u001b[0m\n\u001b[0;32m----> 4\u001b[0;31m \u001b[0mcurr_accuracy_2\u001b[0m\u001b[0;34m(\u001b[0m\u001b[0;34m)\u001b[0m\u001b[0;34m\u001b[0m\u001b[0m\n\u001b[0m",
      "\u001b[0;32m<ipython-input-20-660a66b496c9>\u001b[0m in \u001b[0;36mcurr_accuracy_2\u001b[0;34m()\u001b[0m\n\u001b[1;32m     13\u001b[0m             \u001b[0minput1\u001b[0m\u001b[0;34m,\u001b[0m\u001b[0minput2\u001b[0m \u001b[0;34m=\u001b[0m \u001b[0mVariable\u001b[0m\u001b[0;34m(\u001b[0m\u001b[0mfaces_1_batch\u001b[0m\u001b[0;34m.\u001b[0m\u001b[0mfloat\u001b[0m\u001b[0;34m(\u001b[0m\u001b[0;34m)\u001b[0m\u001b[0;34m)\u001b[0m\u001b[0;34m,\u001b[0m\u001b[0mVariable\u001b[0m\u001b[0;34m(\u001b[0m\u001b[0mfaces_2_batch\u001b[0m\u001b[0;34m.\u001b[0m\u001b[0mfloat\u001b[0m\u001b[0;34m(\u001b[0m\u001b[0;34m)\u001b[0m\u001b[0;34m)\u001b[0m\u001b[0;34m\u001b[0m\u001b[0m\n\u001b[1;32m     14\u001b[0m \u001b[0;34m\u001b[0m\u001b[0m\n\u001b[0;32m---> 15\u001b[0;31m         \u001b[0moutput_1\u001b[0m\u001b[0;34m,\u001b[0m\u001b[0moutput_2\u001b[0m \u001b[0;34m=\u001b[0m \u001b[0msnet\u001b[0m\u001b[0;34m(\u001b[0m\u001b[0minput1\u001b[0m\u001b[0;34m,\u001b[0m\u001b[0minput2\u001b[0m\u001b[0;34m)\u001b[0m\u001b[0;34m\u001b[0m\u001b[0m\n\u001b[0m\u001b[1;32m     16\u001b[0m         \u001b[0moutputs\u001b[0m \u001b[0;34m=\u001b[0m \u001b[0mtorch\u001b[0m\u001b[0;34m.\u001b[0m\u001b[0msigmoid\u001b[0m\u001b[0;34m(\u001b[0m\u001b[0mF\u001b[0m\u001b[0;34m.\u001b[0m\u001b[0mpairwise_distance\u001b[0m\u001b[0;34m(\u001b[0m\u001b[0moutput_1\u001b[0m\u001b[0;34m,\u001b[0m \u001b[0moutput_2\u001b[0m\u001b[0;34m)\u001b[0m\u001b[0;34m)\u001b[0m\u001b[0;34m\u001b[0m\u001b[0m\n\u001b[1;32m     17\u001b[0m \u001b[0;34m\u001b[0m\u001b[0m\n",
      "\u001b[0;32m/Users/jawa/anaconda2/envs/dl_cv_2/lib/python2.7/site-packages/torch/nn/modules/module.pyc\u001b[0m in \u001b[0;36m__call__\u001b[0;34m(self, *input, **kwargs)\u001b[0m\n\u001b[1;32m    222\u001b[0m         \u001b[0;32mfor\u001b[0m \u001b[0mhook\u001b[0m \u001b[0;32min\u001b[0m \u001b[0mself\u001b[0m\u001b[0;34m.\u001b[0m\u001b[0m_forward_pre_hooks\u001b[0m\u001b[0;34m.\u001b[0m\u001b[0mvalues\u001b[0m\u001b[0;34m(\u001b[0m\u001b[0;34m)\u001b[0m\u001b[0;34m:\u001b[0m\u001b[0;34m\u001b[0m\u001b[0m\n\u001b[1;32m    223\u001b[0m             \u001b[0mhook\u001b[0m\u001b[0;34m(\u001b[0m\u001b[0mself\u001b[0m\u001b[0;34m,\u001b[0m \u001b[0minput\u001b[0m\u001b[0;34m)\u001b[0m\u001b[0;34m\u001b[0m\u001b[0m\n\u001b[0;32m--> 224\u001b[0;31m         \u001b[0mresult\u001b[0m \u001b[0;34m=\u001b[0m \u001b[0mself\u001b[0m\u001b[0;34m.\u001b[0m\u001b[0mforward\u001b[0m\u001b[0;34m(\u001b[0m\u001b[0;34m*\u001b[0m\u001b[0minput\u001b[0m\u001b[0;34m,\u001b[0m \u001b[0;34m**\u001b[0m\u001b[0mkwargs\u001b[0m\u001b[0;34m)\u001b[0m\u001b[0;34m\u001b[0m\u001b[0m\n\u001b[0m\u001b[1;32m    225\u001b[0m         \u001b[0;32mfor\u001b[0m \u001b[0mhook\u001b[0m \u001b[0;32min\u001b[0m \u001b[0mself\u001b[0m\u001b[0;34m.\u001b[0m\u001b[0m_forward_hooks\u001b[0m\u001b[0;34m.\u001b[0m\u001b[0mvalues\u001b[0m\u001b[0;34m(\u001b[0m\u001b[0;34m)\u001b[0m\u001b[0;34m:\u001b[0m\u001b[0;34m\u001b[0m\u001b[0m\n\u001b[1;32m    226\u001b[0m             \u001b[0mhook_result\u001b[0m \u001b[0;34m=\u001b[0m \u001b[0mhook\u001b[0m\u001b[0;34m(\u001b[0m\u001b[0mself\u001b[0m\u001b[0;34m,\u001b[0m \u001b[0minput\u001b[0m\u001b[0;34m,\u001b[0m \u001b[0mresult\u001b[0m\u001b[0;34m)\u001b[0m\u001b[0;34m\u001b[0m\u001b[0m\n",
      "\u001b[0;32m<ipython-input-7-6f1a5ab54acc>\u001b[0m in \u001b[0;36mforward\u001b[0;34m(self, input1, input2)\u001b[0m\n\u001b[1;32m     13\u001b[0m \u001b[0;34m\u001b[0m\u001b[0m\n\u001b[1;32m     14\u001b[0m     \u001b[0;32mdef\u001b[0m \u001b[0mforward\u001b[0m\u001b[0;34m(\u001b[0m\u001b[0mself\u001b[0m\u001b[0;34m,\u001b[0m \u001b[0minput1\u001b[0m\u001b[0;34m,\u001b[0m \u001b[0minput2\u001b[0m\u001b[0;34m)\u001b[0m\u001b[0;34m:\u001b[0m\u001b[0;34m\u001b[0m\u001b[0m\n\u001b[0;32m---> 15\u001b[0;31m         \u001b[0;32mreturn\u001b[0m \u001b[0mself\u001b[0m\u001b[0;34m.\u001b[0m\u001b[0mnet\u001b[0m\u001b[0;34m(\u001b[0m\u001b[0minput1\u001b[0m\u001b[0;34m,\u001b[0m\u001b[0minput2\u001b[0m\u001b[0;34m)\u001b[0m\u001b[0;34m\u001b[0m\u001b[0m\n\u001b[0m\u001b[1;32m     16\u001b[0m \u001b[0;34m\u001b[0m\u001b[0m\n",
      "\u001b[0;32m/Users/jawa/anaconda2/envs/dl_cv_2/lib/python2.7/site-packages/torch/nn/modules/module.pyc\u001b[0m in \u001b[0;36m__call__\u001b[0;34m(self, *input, **kwargs)\u001b[0m\n\u001b[1;32m    222\u001b[0m         \u001b[0;32mfor\u001b[0m \u001b[0mhook\u001b[0m \u001b[0;32min\u001b[0m \u001b[0mself\u001b[0m\u001b[0;34m.\u001b[0m\u001b[0m_forward_pre_hooks\u001b[0m\u001b[0;34m.\u001b[0m\u001b[0mvalues\u001b[0m\u001b[0;34m(\u001b[0m\u001b[0;34m)\u001b[0m\u001b[0;34m:\u001b[0m\u001b[0;34m\u001b[0m\u001b[0m\n\u001b[1;32m    223\u001b[0m             \u001b[0mhook\u001b[0m\u001b[0;34m(\u001b[0m\u001b[0mself\u001b[0m\u001b[0;34m,\u001b[0m \u001b[0minput\u001b[0m\u001b[0;34m)\u001b[0m\u001b[0;34m\u001b[0m\u001b[0m\n\u001b[0;32m--> 224\u001b[0;31m         \u001b[0mresult\u001b[0m \u001b[0;34m=\u001b[0m \u001b[0mself\u001b[0m\u001b[0;34m.\u001b[0m\u001b[0mforward\u001b[0m\u001b[0;34m(\u001b[0m\u001b[0;34m*\u001b[0m\u001b[0minput\u001b[0m\u001b[0;34m,\u001b[0m \u001b[0;34m**\u001b[0m\u001b[0mkwargs\u001b[0m\u001b[0;34m)\u001b[0m\u001b[0;34m\u001b[0m\u001b[0m\n\u001b[0m\u001b[1;32m    225\u001b[0m         \u001b[0;32mfor\u001b[0m \u001b[0mhook\u001b[0m \u001b[0;32min\u001b[0m \u001b[0mself\u001b[0m\u001b[0;34m.\u001b[0m\u001b[0m_forward_hooks\u001b[0m\u001b[0;34m.\u001b[0m\u001b[0mvalues\u001b[0m\u001b[0;34m(\u001b[0m\u001b[0;34m)\u001b[0m\u001b[0;34m:\u001b[0m\u001b[0;34m\u001b[0m\u001b[0m\n\u001b[1;32m    226\u001b[0m             \u001b[0mhook_result\u001b[0m \u001b[0;34m=\u001b[0m \u001b[0mhook\u001b[0m\u001b[0;34m(\u001b[0m\u001b[0mself\u001b[0m\u001b[0;34m,\u001b[0m \u001b[0minput\u001b[0m\u001b[0;34m,\u001b[0m \u001b[0mresult\u001b[0m\u001b[0;34m)\u001b[0m\u001b[0;34m\u001b[0m\u001b[0m\n",
      "\u001b[0;32m<ipython-input-6-9e0b26d972bc>\u001b[0m in \u001b[0;36mforward\u001b[0;34m(self, input1, input2)\u001b[0m\n\u001b[1;32m     56\u001b[0m     \u001b[0;32mdef\u001b[0m \u001b[0mforward\u001b[0m\u001b[0;34m(\u001b[0m\u001b[0mself\u001b[0m\u001b[0;34m,\u001b[0m\u001b[0minput1\u001b[0m\u001b[0;34m,\u001b[0m\u001b[0minput2\u001b[0m\u001b[0;34m)\u001b[0m\u001b[0;34m:\u001b[0m\u001b[0;34m\u001b[0m\u001b[0m\n\u001b[1;32m     57\u001b[0m         \u001b[0moutput1\u001b[0m \u001b[0;34m=\u001b[0m \u001b[0mself\u001b[0m\u001b[0;34m.\u001b[0m\u001b[0mforward_once\u001b[0m\u001b[0;34m(\u001b[0m\u001b[0minput1\u001b[0m\u001b[0;34m)\u001b[0m\u001b[0;34m\u001b[0m\u001b[0m\n\u001b[0;32m---> 58\u001b[0;31m         \u001b[0moutput2\u001b[0m \u001b[0;34m=\u001b[0m \u001b[0mself\u001b[0m\u001b[0;34m.\u001b[0m\u001b[0mforward_once\u001b[0m\u001b[0;34m(\u001b[0m\u001b[0minput2\u001b[0m\u001b[0;34m)\u001b[0m\u001b[0;34m\u001b[0m\u001b[0m\n\u001b[0m\u001b[1;32m     59\u001b[0m \u001b[0;34m\u001b[0m\u001b[0m\n\u001b[1;32m     60\u001b[0m         \u001b[0;32mreturn\u001b[0m \u001b[0moutput1\u001b[0m\u001b[0;34m,\u001b[0m \u001b[0moutput2\u001b[0m\u001b[0;34m\u001b[0m\u001b[0m\n",
      "\u001b[0;32m<ipython-input-6-9e0b26d972bc>\u001b[0m in \u001b[0;36mforward_once\u001b[0;34m(self, x)\u001b[0m\n\u001b[1;32m     32\u001b[0m \u001b[0;34m\u001b[0m\u001b[0m\n\u001b[1;32m     33\u001b[0m         \u001b[0;31m#5,6,7,8\u001b[0m\u001b[0;34m\u001b[0m\u001b[0;34m\u001b[0m\u001b[0m\n\u001b[0;32m---> 34\u001b[0;31m         \u001b[0mx\u001b[0m \u001b[0;34m=\u001b[0m \u001b[0mself\u001b[0m\u001b[0;34m.\u001b[0m\u001b[0mF_relu\u001b[0m\u001b[0;34m(\u001b[0m\u001b[0mself\u001b[0m\u001b[0;34m.\u001b[0m\u001b[0mconv2\u001b[0m\u001b[0;34m(\u001b[0m\u001b[0mx\u001b[0m\u001b[0;34m)\u001b[0m\u001b[0;34m)\u001b[0m\u001b[0;34m\u001b[0m\u001b[0m\n\u001b[0m\u001b[1;32m     35\u001b[0m         \u001b[0mx\u001b[0m \u001b[0;34m=\u001b[0m \u001b[0mself\u001b[0m\u001b[0;34m.\u001b[0m\u001b[0mb_128\u001b[0m\u001b[0;34m(\u001b[0m\u001b[0mx\u001b[0m\u001b[0;34m)\u001b[0m\u001b[0;34m\u001b[0m\u001b[0m\n\u001b[1;32m     36\u001b[0m         \u001b[0mx\u001b[0m \u001b[0;34m=\u001b[0m \u001b[0mself\u001b[0m\u001b[0;34m.\u001b[0m\u001b[0mF_max_pool2d\u001b[0m\u001b[0;34m(\u001b[0m\u001b[0mx\u001b[0m\u001b[0;34m,\u001b[0m \u001b[0;36m2\u001b[0m\u001b[0;34m)\u001b[0m\u001b[0;34m\u001b[0m\u001b[0m\n",
      "\u001b[0;32m/Users/jawa/anaconda2/envs/dl_cv_2/lib/python2.7/site-packages/torch/nn/modules/module.pyc\u001b[0m in \u001b[0;36m__call__\u001b[0;34m(self, *input, **kwargs)\u001b[0m\n\u001b[1;32m    222\u001b[0m         \u001b[0;32mfor\u001b[0m \u001b[0mhook\u001b[0m \u001b[0;32min\u001b[0m \u001b[0mself\u001b[0m\u001b[0;34m.\u001b[0m\u001b[0m_forward_pre_hooks\u001b[0m\u001b[0;34m.\u001b[0m\u001b[0mvalues\u001b[0m\u001b[0;34m(\u001b[0m\u001b[0;34m)\u001b[0m\u001b[0;34m:\u001b[0m\u001b[0;34m\u001b[0m\u001b[0m\n\u001b[1;32m    223\u001b[0m             \u001b[0mhook\u001b[0m\u001b[0;34m(\u001b[0m\u001b[0mself\u001b[0m\u001b[0;34m,\u001b[0m \u001b[0minput\u001b[0m\u001b[0;34m)\u001b[0m\u001b[0;34m\u001b[0m\u001b[0m\n\u001b[0;32m--> 224\u001b[0;31m         \u001b[0mresult\u001b[0m \u001b[0;34m=\u001b[0m \u001b[0mself\u001b[0m\u001b[0;34m.\u001b[0m\u001b[0mforward\u001b[0m\u001b[0;34m(\u001b[0m\u001b[0;34m*\u001b[0m\u001b[0minput\u001b[0m\u001b[0;34m,\u001b[0m \u001b[0;34m**\u001b[0m\u001b[0mkwargs\u001b[0m\u001b[0;34m)\u001b[0m\u001b[0;34m\u001b[0m\u001b[0m\n\u001b[0m\u001b[1;32m    225\u001b[0m         \u001b[0;32mfor\u001b[0m \u001b[0mhook\u001b[0m \u001b[0;32min\u001b[0m \u001b[0mself\u001b[0m\u001b[0;34m.\u001b[0m\u001b[0m_forward_hooks\u001b[0m\u001b[0;34m.\u001b[0m\u001b[0mvalues\u001b[0m\u001b[0;34m(\u001b[0m\u001b[0;34m)\u001b[0m\u001b[0;34m:\u001b[0m\u001b[0;34m\u001b[0m\u001b[0m\n\u001b[1;32m    226\u001b[0m             \u001b[0mhook_result\u001b[0m \u001b[0;34m=\u001b[0m \u001b[0mhook\u001b[0m\u001b[0;34m(\u001b[0m\u001b[0mself\u001b[0m\u001b[0;34m,\u001b[0m \u001b[0minput\u001b[0m\u001b[0;34m,\u001b[0m \u001b[0mresult\u001b[0m\u001b[0;34m)\u001b[0m\u001b[0;34m\u001b[0m\u001b[0m\n",
      "\u001b[0;32m/Users/jawa/anaconda2/envs/dl_cv_2/lib/python2.7/site-packages/torch/nn/modules/conv.pyc\u001b[0m in \u001b[0;36mforward\u001b[0;34m(self, input)\u001b[0m\n\u001b[1;32m    252\u001b[0m     \u001b[0;32mdef\u001b[0m \u001b[0mforward\u001b[0m\u001b[0;34m(\u001b[0m\u001b[0mself\u001b[0m\u001b[0;34m,\u001b[0m \u001b[0minput\u001b[0m\u001b[0;34m)\u001b[0m\u001b[0;34m:\u001b[0m\u001b[0;34m\u001b[0m\u001b[0m\n\u001b[1;32m    253\u001b[0m         return F.conv2d(input, self.weight, self.bias, self.stride,\n\u001b[0;32m--> 254\u001b[0;31m                         self.padding, self.dilation, self.groups)\n\u001b[0m\u001b[1;32m    255\u001b[0m \u001b[0;34m\u001b[0m\u001b[0m\n\u001b[1;32m    256\u001b[0m \u001b[0;34m\u001b[0m\u001b[0m\n",
      "\u001b[0;32m/Users/jawa/anaconda2/envs/dl_cv_2/lib/python2.7/site-packages/torch/nn/functional.pyc\u001b[0m in \u001b[0;36mconv2d\u001b[0;34m(input, weight, bias, stride, padding, dilation, groups)\u001b[0m\n\u001b[1;32m     50\u001b[0m     f = ConvNd(_pair(stride), _pair(padding), _pair(dilation), False,\n\u001b[1;32m     51\u001b[0m                _pair(0), groups, torch.backends.cudnn.benchmark, torch.backends.cudnn.enabled)\n\u001b[0;32m---> 52\u001b[0;31m     \u001b[0;32mreturn\u001b[0m \u001b[0mf\u001b[0m\u001b[0;34m(\u001b[0m\u001b[0minput\u001b[0m\u001b[0;34m,\u001b[0m \u001b[0mweight\u001b[0m\u001b[0;34m,\u001b[0m \u001b[0mbias\u001b[0m\u001b[0;34m)\u001b[0m\u001b[0;34m\u001b[0m\u001b[0m\n\u001b[0m\u001b[1;32m     53\u001b[0m \u001b[0;34m\u001b[0m\u001b[0m\n\u001b[1;32m     54\u001b[0m \u001b[0;34m\u001b[0m\u001b[0m\n",
      "\u001b[0;31mKeyboardInterrupt\u001b[0m: "
     ]
    }
   ],
   "source": [
    "# snet=snet_load\n",
    "acc_data_set = FacePairsDataset(txt_file='train.txt',root_dir='lfw/',transform=trans_train)\n",
    "acc_loader = DataLoader(dataset=acc_data_set, batch_size=N, shuffle=False, num_workers=4)\n",
    "curr_accuracy_2()\n"
   ]
  },
  {
   "cell_type": "code",
   "execution_count": 20,
   "metadata": {
    "collapsed": true
   },
   "outputs": [],
   "source": [
    "def curr_accuracy_2():\n",
    "    correct = 0\n",
    "    total = 0\n",
    "    count = 0\n",
    "    for data in acc_loader:\n",
    "        count=count+1\n",
    "        faces_1_batch, faces_2_batch = data['face_1'], data['face_2']\n",
    "        labels_batch = data['label']\n",
    "\n",
    "        if torch.cuda.is_available():\n",
    "            input1,input2 = Variable(faces_1_batch.float().cuda()),Variable(faces_2_batch.float().cuda())\n",
    "        else:\n",
    "            input1,input2 = Variable(faces_1_batch.float()),Variable(faces_2_batch.float())\n",
    "\n",
    "        output_1,output_2 = snet(input1,input2)\n",
    "        outputs = torch.sigmoid(F.pairwise_distance(output_1, output_2))\n",
    "\n",
    "\n",
    "        outputs.data[outputs.data>=0.5]=0\n",
    "        outputs.data[outputs.data<=0.5]=1\n",
    "            \n",
    "        predicted = outputs.data\n",
    "\n",
    "        total += labels_batch.size(0)\n",
    "        labels_batch= (labels_batch.view(-1,1))\n",
    "\n",
    "        correct += (predicted.long().cpu() == labels_batch.long()).sum()    \n",
    "   \n",
    "    ac = 100 * (correct / total)\n",
    "    print('Accuracy of the network on the %d test images: %d %%' %(total, ac))\n",
    "    return ac\n"
   ]
  }
 ],
 "metadata": {
  "kernelspec": {
   "display_name": "Python 2",
   "language": "python",
   "name": "python2"
  },
  "language_info": {
   "codemirror_mode": {
    "name": "ipython",
    "version": 2
   },
   "file_extension": ".py",
   "mimetype": "text/x-python",
   "name": "python",
   "nbconvert_exporter": "python",
   "pygments_lexer": "ipython2",
   "version": "2.7.14"
  }
 },
 "nbformat": 4,
 "nbformat_minor": 2
}
