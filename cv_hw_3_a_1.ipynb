{
 "cells": [
  {
   "cell_type": "code",
   "execution_count": 1,
   "metadata": {
    "collapsed": true
   },
   "outputs": [],
   "source": [
    "from __future__ import print_function, division\n",
    "import os\n",
    "import torch\n",
    "import pandas as pd\n",
    "from skimage import io,transform as sk_transform\n",
    "import numpy as np\n",
    "import math\n",
    "import matplotlib.pyplot as plt\n",
    "from torch.utils.data import Dataset, DataLoader\n",
    "from torchvision import transforms, utils\n",
    "from torch.autograd import Variable\n",
    "import torch.nn as nn\n",
    "import torch.nn.functional as F\n",
    "from time import gmtime, strftime\n",
    "import random\n"
   ]
  },
  {
   "cell_type": "code",
   "execution_count": 2,
   "metadata": {},
   "outputs": [
    {
     "name": "stdout",
     "output_type": "stream",
     "text": [
      "0.894954800972\n"
     ]
    }
   ],
   "source": [
    "x = random.uniform(0.7,1.3)\n",
    "print(x)"
   ]
  },
  {
   "cell_type": "markdown",
   "metadata": {},
   "source": [
    "Data Loader Class"
   ]
  },
  {
   "cell_type": "code",
   "execution_count": 16,
   "metadata": {
    "collapsed": true
   },
   "outputs": [],
   "source": [
    "class random_augmetaion(object):\n",
    "    \"\"\"Applied the required tranformations\"\"\"\n",
    "    \n",
    "    def random_augment_image(self,face):\n",
    "       \n",
    "        ## mirror flipping\n",
    "\n",
    "        # rotate image parmaeter:\n",
    "        angle = math.radians(random.randrange(-30, +30))\n",
    "        \n",
    "        # translate image parameter\n",
    "        tr_distance_x = random.randrange(-10, +10)\n",
    "        tr_distance_y = random.randrange(-10, +10)\n",
    "        # scaling image parameter\n",
    "        scaling_val=random.uniform(0.7,1.3) \n",
    "        \n",
    "        tform=sk_transform.SimilarityTransform(scale=scaling_val, rotation=angle,\\\n",
    "                                                    translation=(tr_distance_x, tr_distance_y))\n",
    "        # transform probabilty \n",
    "        tr_probab= random.random()\n",
    "        if tr_probab<=0.7:\n",
    "            face = sk_transform.warp(face,inverse_map=tform)        \n",
    "    \n",
    "        return face\n",
    "        \n",
    "    \n",
    "    def __call__(self,sample):\n",
    "        face_1, face_2 = sample['face_1'], sample['face_2']        \n",
    "        \n",
    "        face_1=self.random_augment_image(face_1)\n",
    "        face_2=self.random_augment_image(face_2)\n",
    "        \n",
    "        return {\n",
    "                'face_1': face_1,\n",
    "                'face_2': face_2,\n",
    "                 'label':sample['label']\n",
    "               }        \n",
    "        \n",
    "class ToTensor(object):\n",
    "\n",
    "        \n",
    "    def __call__(self,sample):\n",
    "        face_1, face_2 = sample['face_1'], sample['face_2']\n",
    "        \n",
    "        # final resize the image\n",
    "        face_1 = sk_transform.resize(face_1, (128, 128), mode='constant')\n",
    "        # transpose because the axis are different in torch.image vs skimage image\n",
    "        face_1=face_1.transpose((2, 0, 1))\n",
    "        \n",
    "         # final resize the image\n",
    "        face_2 = sk_transform.resize(face_2, (128, 128), mode='constant')\n",
    "        # transpose because the axis are different in torch.image vs skimage image\n",
    "        face_2=face_2.transpose((2, 0, 1))\n",
    "        \n",
    "        label=torch.LongTensor(1, 1).zero_()\n",
    "        label=sample['label']\n",
    "        return {\n",
    "                'face_1': torch.from_numpy(face_1),\n",
    "                'face_2': torch.from_numpy(face_2),\n",
    "                 'label':label\n",
    "               }\n",
    "    \n",
    "class FacePairsDataset(Dataset):\n",
    "    \"\"\"Face Pairs dataset.\"\"\"\n",
    "\n",
    "    def __init__(self, txt_file, root_dir, transform=None):\n",
    "        \"\"\"\n",
    "        Args:\n",
    "            csv_file (string): Path to the csv file with annotations.\n",
    "            root_dir (string): Directory with all the images.\n",
    "            transform (callable, optional): Optional transform to be applied\n",
    "                on a sample.\n",
    "        \"\"\"\n",
    "        data=pd.read_csv(txt_file,header=None)\n",
    "        df=data[0].str[:].str.split(' ', expand=True)\n",
    "        df.columns = [\"face_1\", \"face_2\", \"label\"]\n",
    "        self.face_pair_frame = df\n",
    "        self.root_dir = root_dir\n",
    "        self.transform = transform\n",
    "\n",
    "    def __len__(self):\n",
    "        return len(self.face_pair_frame)\n",
    "\n",
    "    def __getitem__(self, idx):\n",
    "        img_name_1 = os.path.join(self.root_dir, self.face_pair_frame.loc[idx, 'face_1'])\n",
    "        img_name_2 = os.path.join(self.root_dir, self.face_pair_frame.loc[idx, 'face_2'])\n",
    "        face_1 = io.imread(img_name_1)\n",
    "        face_2 = io.imread(img_name_2)\n",
    "        label=self.face_pair_frame.loc[idx,'label']\n",
    "        label=int(label)\n",
    "        sample = {'face_1': face_1,'face_2':face_2,'label': label}\n",
    "\n",
    "        if self.transform:\n",
    "            sample = self.transform(sample)\n",
    "\n",
    "        return sample\n"
   ]
  },
  {
   "cell_type": "markdown",
   "metadata": {},
   "source": [
    "Loads and transforms the data"
   ]
  },
  {
   "cell_type": "code",
   "execution_count": 37,
   "metadata": {
    "collapsed": true
   },
   "outputs": [],
   "source": [
    "trans_train = transforms.Compose([random_augmetaion(),ToTensor()])\n",
    "trans_test = transforms.Compose([ToTensor()])\n",
    "\n",
    "face_train_dataset = FacePairsDataset(txt_file='train.txt',root_dir='lfw/',transform=trans_train)\n",
    "face_test_dataset = FacePairsDataset(txt_file='test.txt',root_dir='lfw/',transform=trans_test)\n",
    "\n",
    "N = 20\n",
    "train_loader = DataLoader(dataset=face_train_dataset, batch_size=N, shuffle=True, num_workers=4)\n",
    "test_loader = DataLoader(dataset=face_test_dataset, batch_size=N, shuffle=False, num_workers=4)"
   ]
  },
  {
   "cell_type": "code",
   "execution_count": 38,
   "metadata": {},
   "outputs": [
    {
     "name": "stdout",
     "output_type": "stream",
     "text": [
      "1000\n"
     ]
    }
   ],
   "source": [
    "print(len(test_loader)*N)"
   ]
  },
  {
   "cell_type": "markdown",
   "metadata": {},
   "source": [
    "tester code for batch loading"
   ]
  },
  {
   "cell_type": "code",
   "execution_count": 39,
   "metadata": {},
   "outputs": [
    {
     "name": "stdout",
     "output_type": "stream",
     "text": [
      "0\n",
      "1\n",
      "2\n",
      "3\n",
      "torch.Size([20, 3, 128, 128])\n",
      "torch.Size([20, 3, 128, 128])\n",
      "torch.Size([20])\n"
     ]
    },
    {
     "data": {
      "image/png": "[encoded data removed]",
      "text/plain": [
       "<matplotlib.figure.Figure at 0x7fb97948df10>"
      ]
     },
     "metadata": {},
     "output_type": "display_data"
    }
   ],
   "source": [
    "def show_faces_batch(sample_batched):\n",
    "    \"\"\"Show image with landmarks for a batch of samples.\"\"\"\n",
    "    faces_1_batch, faces_2_batch = sample_batched['face_1'], sample_batched['face_2']\n",
    "    print (faces_1_batch.shape)\n",
    "    print (faces_2_batch.shape)\n",
    "    labels_batch=sample_batched['label']\n",
    "    print(labels_batch.shape)\n",
    "    batch_size = len(faces_1_batch)ss\n",
    "    im_size = faces_1_batch.size(2)\n",
    "    grid_1 = utils.make_grid(faces_1_batch)\n",
    "    grid_2 = utils.make_grid(faces_2_batch)\n",
    "    plt.imshow(grid_1.numpy().transpose((1, 2, 0)))\n",
    "    plt.imshow(grid_2.numpy().transpose((1, 2, 0)))\n",
    "\n",
    "for i_batch, sample_batched in enumerate(train_loader):\n",
    "    print (i_batch)\n",
    "    # sample_batched['face_1'].size() + sample_batched['face_2'].size()\n",
    "    # observe 4th batch and stop.\n",
    "    if i_batch == 3:\n",
    "        plt.figure()\n",
    "        show_faces_batch(sample_batched)\n",
    "        plt.axis('off')\n",
    "        plt.ioff()\n",
    "        plt.show()\n",
    "        break\n",
    "i=0"
   ]
  },
  {
   "cell_type": "markdown",
   "metadata": {
    "collapsed": true
   },
   "source": [
    "# Model C"
   ]
  },
  {
   "cell_type": "code",
   "execution_count": 20,
   "metadata": {
    "collapsed": true
   },
   "outputs": [],
   "source": [
    "class Net(nn.Module):\n",
    "\n",
    "    def __init__(self):\n",
    "        super(Net, self).__init__()\n",
    "        # 1 input image channel, 6 output channels, 5x5 square convolution\n",
    "        # kernel\n",
    "        self.conv1 = nn.Conv2d(in_channels=3, out_channels=64, kernel_size=5,padding=2,stride=1)\n",
    "        self.conv2 = nn.Conv2d(in_channels=64, out_channels=128, kernel_size=5,padding=2,stride=1)\n",
    "        self.conv3 = nn.Conv2d(in_channels=128, out_channels=256, kernel_size=3,padding=1,stride=1)\n",
    "        self.conv4 = nn.Conv2d(in_channels=256, out_channels=512, kernel_size=3,padding=1,stride=1)\n",
    "        \n",
    "        # an affine operation: y = Wx + b\n",
    "        self.fc1 = nn.Linear(131072, 1024)\n",
    "        \n",
    "        self.b_64 = nn.BatchNorm2d(64)\n",
    "        self.b_128 = nn.BatchNorm2d(128)\n",
    "        self.b_256 = nn.BatchNorm2d(256)\n",
    "        self.b_512 = nn.BatchNorm2d(512)\n",
    "        self.b_1024 = nn.BatchNorm2d(1024)\n",
    "        self.F_relu = F.relu\n",
    "        self.F_max_pool2d = F.max_pool2d\n",
    "        \n",
    "\n",
    "    def forward_once(self, x):\n",
    "        # Max pooling over a (2, 2) window\n",
    "       \n",
    "        \n",
    "        #1,2,3,4\n",
    "        x = self.F_relu(self.conv1(x))\n",
    "        x = self.b_64(x)\n",
    "        x = self.F_max_pool2d(x,2)\n",
    "        \n",
    "        #5,6,7,8\n",
    "        x = self.F_relu(self.conv2(x))\n",
    "        x = self.b_128(x)\n",
    "        x = self.F_max_pool2d(x, 2)\n",
    "        \n",
    "        #9,10,11,12\n",
    "        x = self.F_relu(self.conv3(x))\n",
    "        x = self.b_256(x)\n",
    "        x = self.F_max_pool2d(x,2)\n",
    "        \n",
    "        #13,14,15 (no max pooling)\n",
    "        x = self.F_relu(self.conv4(x))\n",
    "        x=self.b_512(x)\n",
    "        \n",
    "        # 16\n",
    "        x = x.view(-1, self.num_flat_features(x))\n",
    "        \n",
    "        #17,18,19\n",
    "        x = self.F_relu(self.fc1(x))\n",
    "        x= self.b_1024(x)\n",
    "        \n",
    "        return x\n",
    "    \n",
    "    def forward(self,input1,input2):\n",
    "        output1 = self.forward_once(input1)\n",
    "        output2 = self.forward_once(input2)\n",
    "\n",
    "        return output1, output2\n",
    "        \n",
    "    def num_flat_features(self, x):\n",
    "        size = x.size()[1:]  # all dimensions except the batch dimension\n",
    "        num_features = 1\n",
    "        for s in size:\n",
    "            num_features *= s\n",
    "        return num_features\n",
    "\n",
    "\n"
   ]
  },
  {
   "cell_type": "markdown",
   "metadata": {},
   "source": [
    "# Siamese_Net"
   ]
  },
  {
   "cell_type": "code",
   "execution_count": 21,
   "metadata": {
    "collapsed": true
   },
   "outputs": [],
   "source": [
    "\n",
    "class Siamese_Net(torch.nn.Module):\n",
    "    \n",
    "\n",
    "    def __init__(self):\n",
    "        super(Siamese_Net, self).__init__()\n",
    "        if torch.cuda.is_available():\n",
    "            self.net = Net().cuda()\n",
    "        else:\n",
    "            self.net = Net()\n",
    "        self.fc = nn.Linear(2048, 1)\n",
    "\n",
    "\n",
    "    def forward(self, input1, input2):\n",
    "        output_1,output_2=self.net(input1,input2)\n",
    "      \n",
    "        x = torch.cat((output_1,output_2), 1)\n",
    "        m = nn.Sigmoid()\n",
    "        output = m(self.fc(x))\n",
    "        return output\n",
    "    \n"
   ]
  },
  {
   "cell_type": "markdown",
   "metadata": {},
   "source": [
    "# Optimizer, Loss"
   ]
  },
  {
   "cell_type": "code",
   "execution_count": 22,
   "metadata": {},
   "outputs": [
    {
     "name": "stdout",
     "output_type": "stream",
     "text": [
      "Siamese_Net (\n",
      "  (net): Net (\n",
      "    (conv1): Conv2d(3, 64, kernel_size=(5, 5), stride=(1, 1), padding=(2, 2))\n",
      "    (conv2): Conv2d(64, 128, kernel_size=(5, 5), stride=(1, 1), padding=(2, 2))\n",
      "    (conv3): Conv2d(128, 256, kernel_size=(3, 3), stride=(1, 1), padding=(1, 1))\n",
      "    (conv4): Conv2d(256, 512, kernel_size=(3, 3), stride=(1, 1), padding=(1, 1))\n",
      "    (fc1): Linear (131072 -> 1024)\n",
      "    (b_64): BatchNorm2d(64, eps=1e-05, momentum=0.1, affine=True)\n",
      "    (b_128): BatchNorm2d(128, eps=1e-05, momentum=0.1, affine=True)\n",
      "    (b_256): BatchNorm2d(256, eps=1e-05, momentum=0.1, affine=True)\n",
      "    (b_512): BatchNorm2d(512, eps=1e-05, momentum=0.1, affine=True)\n",
      "    (b_1024): BatchNorm2d(1024, eps=1e-05, momentum=0.1, affine=True)\n",
      "  )\n",
      "  (fc): Linear (2048 -> 1)\n",
      ")\n"
     ]
    }
   ],
   "source": [
    "import torch.optim as optim\n",
    "if torch.cuda.is_available():\n",
    "    snet = Siamese_Net().cuda()\n",
    "    criterion = nn.BCELoss().cuda()\n",
    "else:\n",
    "    snet = Siamese_Net()\n",
    "    criterion = nn.BCELoss()\n",
    "    \n",
    "optimizer = optim.Adam(snet.parameters())\n",
    "print(snet)\n"
   ]
  },
  {
   "cell_type": "markdown",
   "metadata": {},
   "source": [
    "# Sanity Checks for parameters"
   ]
  },
  {
   "cell_type": "code",
   "execution_count": 23,
   "metadata": {},
   "outputs": [
    {
     "name": "stdout",
     "output_type": "stream",
     "text": [
      "22\n",
      "torch.Size([64, 3, 5, 5])\n",
      "torch.Size([128, 64, 5, 5])\n",
      "torch.Size([256, 128, 3, 3])\n",
      "torch.Size([512, 256, 3, 3])\n",
      "torch.Size([1024, 131072])\n",
      "torch.Size([64])\n"
     ]
    }
   ],
   "source": [
    "params = list(snet.parameters())\n",
    "print(len(params))\n",
    "print(params[0].size())  # bases weight\n",
    "print(params[2].size())  # conv2's .weight\n",
    "print(params[4].size())  # conv3's .weight\n",
    "print(params[6].size())  # conv4's .weight\n",
    "print(params[8].size())  # conv5's .weight\n",
    "print(params[10].size())  # linear 2 .weight\n"
   ]
  },
  {
   "cell_type": "code",
   "execution_count": 24,
   "metadata": {},
   "outputs": [
    {
     "name": "stdout",
     "output_type": "stream",
     "text": [
      "torch.Size([2, 1])\n"
     ]
    }
   ],
   "source": [
    "a = torch.randn(2,3,128,128)\n",
    "b = torch.randn(2,3,128,128)\n",
    "\n",
    "if torch.cuda.is_available():\n",
    "    temp=snet(Variable(a).cuda(),Variable(b).cuda())\n",
    "else:\n",
    "    temp=snet(Variable(a),Variable(b))\n",
    "    \n",
    "print(temp.size())"
   ]
  },
  {
   "cell_type": "code",
   "execution_count": 25,
   "metadata": {
    "collapsed": true
   },
   "outputs": [],
   "source": [
    "def curr_accuracy():\n",
    "    correct = 0\n",
    "    total = 0\n",
    "    count = 0\n",
    "    for data in test_loader:\n",
    "        count=count+1\n",
    "        faces_1_batch, faces_2_batch = data['face_1'], data['face_2']\n",
    "        labels_batch = data['label']\n",
    "\n",
    "        if torch.cuda.is_available():\n",
    "            input1,input2 = Variable(faces_1_batch.float().cuda()),Variable(faces_2_batch.float().cuda())\n",
    "        else:\n",
    "            input1,input2 = Variable(faces_1_batch.float()),Variable(faces_2_batch.float())\n",
    "\n",
    "        outputs = snet(input1,input2)\n",
    "\n",
    "        outputs.data[outputs.data>=0.5]=1\n",
    "        outputs.data[outputs.data<=0.5]=0\n",
    "            \n",
    "        predicted = outputs.data\n",
    "\n",
    "        total += labels_batch.size(0)\n",
    "        labels_batch= (labels_batch.view(-1,1))\n",
    "\n",
    "        correct += (predicted.long().cpu() == labels_batch.long()).sum()    \n",
    "   \n",
    "    ac = 100 * (correct / total)\n",
    "    print('Accuracy of the network on the %d test images: %d %%' %(total, ac))\n",
    "    return ac\n"
   ]
  },
  {
   "cell_type": "code",
   "execution_count": 26,
   "metadata": {},
   "outputs": [
    {
     "name": "stdout",
     "output_type": "stream",
     "text": [
      "Epoch number  0\n",
      "Epoch number  1\n",
      "Epoch number  2\n",
      "Epoch number  3\n",
      "Epoch number  4\n",
      "Epoch number  5\n",
      "Epoch number  6\n",
      "Epoch number  7\n",
      "Epoch number  8\n",
      "Epoch number  9\n",
      "Epoch number  10\n",
      "Epoch number  11\n",
      "Epoch number  12\n",
      "Epoch number  13\n",
      "Epoch number  14\n",
      "Finished Training\n"
     ]
    },
    {
     "ename": "RuntimeError",
     "evalue": "Unknown error -1",
     "output_type": "error",
     "traceback": [
      "\u001b[0;31m---------------------------------------------------------------------------\u001b[0m",
      "\u001b[0;31mRuntimeError\u001b[0m                              Traceback (most recent call last)",
      "\u001b[0;32m<ipython-input-26-bcc1fefada14>\u001b[0m in \u001b[0;36m<module>\u001b[0;34m()\u001b[0m\n\u001b[1;32m     30\u001b[0m \u001b[0mcurr_time\u001b[0m\u001b[0;34m=\u001b[0m\u001b[0mstrftime\u001b[0m\u001b[0;34m(\u001b[0m\u001b[0;34m\"%Y_%m_%d_%H_%M_%S\"\u001b[0m\u001b[0;34m,\u001b[0m \u001b[0mgmtime\u001b[0m\u001b[0;34m(\u001b[0m\u001b[0;34m)\u001b[0m\u001b[0;34m)\u001b[0m\u001b[0;34m\u001b[0m\u001b[0m\n\u001b[1;32m     31\u001b[0m \u001b[0msave_file_path\u001b[0m\u001b[0;34m=\u001b[0m\u001b[0;34m'snet_tf_'\u001b[0m\u001b[0;34m+\u001b[0m\u001b[0mcurr_time\u001b[0m\u001b[0;34m\u001b[0m\u001b[0m\n\u001b[0;32m---> 32\u001b[0;31m \u001b[0mtorch\u001b[0m\u001b[0;34m.\u001b[0m\u001b[0msave\u001b[0m\u001b[0;34m(\u001b[0m\u001b[0msnet\u001b[0m\u001b[0;34m.\u001b[0m\u001b[0mstate_dict\u001b[0m\u001b[0;34m(\u001b[0m\u001b[0;34m)\u001b[0m\u001b[0;34m,\u001b[0m \u001b[0msave_file_path\u001b[0m\u001b[0;34m)\u001b[0m\u001b[0;34m\u001b[0m\u001b[0m\n\u001b[0m",
      "\u001b[0;32m/home/jawa/.local/lib/python2.7/site-packages/torch/serialization.pyc\u001b[0m in \u001b[0;36msave\u001b[0;34m(obj, f, pickle_module, pickle_protocol)\u001b[0m\n\u001b[1;32m    118\u001b[0m         \u001b[0mf\u001b[0m \u001b[0;34m=\u001b[0m \u001b[0mopen\u001b[0m\u001b[0;34m(\u001b[0m\u001b[0mf\u001b[0m\u001b[0;34m,\u001b[0m \u001b[0;34m\"wb\"\u001b[0m\u001b[0;34m)\u001b[0m\u001b[0;34m\u001b[0m\u001b[0m\n\u001b[1;32m    119\u001b[0m     \u001b[0;32mtry\u001b[0m\u001b[0;34m:\u001b[0m\u001b[0;34m\u001b[0m\u001b[0m\n\u001b[0;32m--> 120\u001b[0;31m         \u001b[0;32mreturn\u001b[0m \u001b[0m_save\u001b[0m\u001b[0;34m(\u001b[0m\u001b[0mobj\u001b[0m\u001b[0;34m,\u001b[0m \u001b[0mf\u001b[0m\u001b[0;34m,\u001b[0m \u001b[0mpickle_module\u001b[0m\u001b[0;34m,\u001b[0m \u001b[0mpickle_protocol\u001b[0m\u001b[0;34m)\u001b[0m\u001b[0;34m\u001b[0m\u001b[0m\n\u001b[0m\u001b[1;32m    121\u001b[0m     \u001b[0;32mfinally\u001b[0m\u001b[0;34m:\u001b[0m\u001b[0;34m\u001b[0m\u001b[0m\n\u001b[1;32m    122\u001b[0m         \u001b[0;32mif\u001b[0m \u001b[0mnew_fd\u001b[0m\u001b[0;34m:\u001b[0m\u001b[0;34m\u001b[0m\u001b[0m\n",
      "\u001b[0;32m/home/jawa/.local/lib/python2.7/site-packages/torch/serialization.pyc\u001b[0m in \u001b[0;36m_save\u001b[0;34m(obj, f, pickle_module, pickle_protocol)\u001b[0m\n\u001b[1;32m    190\u001b[0m     \u001b[0mf\u001b[0m\u001b[0;34m.\u001b[0m\u001b[0mflush\u001b[0m\u001b[0;34m(\u001b[0m\u001b[0;34m)\u001b[0m\u001b[0;34m\u001b[0m\u001b[0m\n\u001b[1;32m    191\u001b[0m     \u001b[0;32mfor\u001b[0m \u001b[0mkey\u001b[0m \u001b[0;32min\u001b[0m \u001b[0mserialized_storage_keys\u001b[0m\u001b[0;34m:\u001b[0m\u001b[0;34m\u001b[0m\u001b[0m\n\u001b[0;32m--> 192\u001b[0;31m         \u001b[0mserialized_storages\u001b[0m\u001b[0;34m[\u001b[0m\u001b[0mkey\u001b[0m\u001b[0;34m]\u001b[0m\u001b[0;34m.\u001b[0m\u001b[0m_write_file\u001b[0m\u001b[0;34m(\u001b[0m\u001b[0mf\u001b[0m\u001b[0;34m)\u001b[0m\u001b[0;34m\u001b[0m\u001b[0m\n\u001b[0m\u001b[1;32m    193\u001b[0m \u001b[0;34m\u001b[0m\u001b[0m\n\u001b[1;32m    194\u001b[0m \u001b[0;34m\u001b[0m\u001b[0m\n",
      "\u001b[0;31mRuntimeError\u001b[0m: Unknown error -1"
     ]
    }
   ],
   "source": [
    "ac_list=[]\n",
    "for epoch in range(15):  # loop over the dataset multiple times\n",
    "    for i, sample_batched in enumerate(train_loader):\n",
    "        # get the inputs\n",
    "        faces_1_batch, faces_2_batch = sample_batched['face_1'], sample_batched['face_2']\n",
    "        labels_batch = sample_batched['label']\n",
    "        \n",
    "        # wrap them in Variable\n",
    "        if torch.cuda.is_available():\n",
    "            input1,input2 = Variable(faces_1_batch.float().cuda()),Variable(faces_2_batch.float().cuda())\n",
    "            labels_batch = Variable(labels_batch.float().cuda())\n",
    "        else:\n",
    "            input1,input2 = Variable(faces_1_batch.float()),Variable(faces_2_batch.float())\n",
    "            labels_batch = Variable(labels_batch.float())\n",
    "        \n",
    "        # zero the parameter gradients\n",
    "        optimizer.zero_grad()\n",
    "        \n",
    "        # forward + backward + optimize\n",
    "        outputs = snet(input1,input2)\n",
    "        outputs_flat=outputs.view(outputs.numel())\n",
    "        loss = criterion(outputs_flat, labels_batch)\n",
    "        loss.backward()\n",
    "        optimizer.step()\n",
    "        \n",
    "    # ac_list.append(curr_accuracy())\n",
    "    print(\"Epoch number \",epoch)\n",
    "        \n",
    "print('Finished Training')\n",
    "curr_time=strftime(\"%Y_%m_%d_%H_%M_%S\", gmtime())\n",
    "save_file_path='snet_tf_'+curr_time\n",
    "torch.save(snet.state_dict(), save_file_path)"
   ]
  },
  {
   "cell_type": "code",
   "execution_count": 27,
   "metadata": {
    "collapsed": true
   },
   "outputs": [],
   "source": [
    "curr_time=strftime(\"%Y_%m_%d_%H_%M_%S\", gmtime())\n",
    "save_file_path='snet_tf_'+curr_time\n",
    "torch.save(snet.state_dict(), save_file_path)"
   ]
  },
  {
   "cell_type": "code",
   "execution_count": 28,
   "metadata": {
    "collapsed": true
   },
   "outputs": [],
   "source": [
    "if torch.cuda.is_available():\n",
    "    snet_load = Siamese_Net().cuda()\n",
    "else:\n",
    "    snet_load = Siamese_Net()  \n",
    "snet_load.load_state_dict(torch.load('snet_tf_2017_11_23_22_14_44'))\n"
   ]
  },
  {
   "cell_type": "code",
   "execution_count": 40,
   "metadata": {},
   "outputs": [
    {
     "name": "stdout",
     "output_type": "stream",
     "text": [
      "Accuracy of the network on the 2200 test images: 64 %\n"
     ]
    },
    {
     "data": {
      "text/plain": [
       "64.04545454545455"
      ]
     },
     "execution_count": 40,
     "metadata": {},
     "output_type": "execute_result"
    }
   ],
   "source": [
    "snet=snet_load\n",
    "acc_data_set = FacePairsDataset(txt_file='train.txt',root_dir='lfw/',transform=trans_train)\n",
    "acc_loader = DataLoader(dataset=acc_data_set, batch_size=N, shuffle=False, num_workers=4)\n",
    "curr_accuracy_2()\n"
   ]
  },
  {
   "cell_type": "code",
   "execution_count": 30,
   "metadata": {
    "collapsed": true
   },
   "outputs": [],
   "source": [
    "def curr_accuracy_2():\n",
    "    correct = 0\n",
    "    total = 0\n",
    "    count = 0\n",
    "    for data in acc_loader:\n",
    "        count=count+1\n",
    "        faces_1_batch, faces_2_batch = data['face_1'], data['face_2']\n",
    "        labels_batch = data['label']\n",
    "\n",
    "        if torch.cuda.is_available():\n",
    "            input1,input2 = Variable(faces_1_batch.float().cuda()),Variable(faces_2_batch.float().cuda())\n",
    "        else:\n",
    "            input1,input2 = Variable(faces_1_batch.float()),Variable(faces_2_batch.float())\n",
    "\n",
    "        outputs = snet(input1,input2)\n",
    "\n",
    "        outputs.data[outputs.data>=0.5]=1\n",
    "        outputs.data[outputs.data<=0.5]=0\n",
    "            \n",
    "        predicted = outputs.data\n",
    "\n",
    "        total += labels_batch.size(0)\n",
    "        labels_batch= (labels_batch.view(-1,1))\n",
    "\n",
    "        correct += (predicted.long().cpu() == labels_batch.long()).sum()    \n",
    "   \n",
    "    ac = 100 * (correct / total)\n",
    "    print('Accuracy of the network on the %d test images: %d %%' %(total, ac))\n",
    "    return ac\n"
   ]
  },
  {
   "cell_type": "code",
   "execution_count": null,
   "metadata": {
    "collapsed": true
   },
   "outputs": [],
   "source": []
  }
 ],
 "metadata": {
  "kernelspec": {
   "display_name": "Python 2",
   "language": "python",
   "name": "python2"
  },
  "language_info": {
   "codemirror_mode": {
    "name": "ipython",
    "version": 2
   },
   "file_extension": ".py",
   "mimetype": "text/x-python",
   "name": "python",
   "nbconvert_exporter": "python",
   "pygments_lexer": "ipython2",
   "version": "2.7.14"
  }
 },
 "nbformat": 4,
 "nbformat_minor": 2
}
